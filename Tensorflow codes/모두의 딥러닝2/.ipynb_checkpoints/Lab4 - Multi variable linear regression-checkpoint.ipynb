{
 "cells": [
  {
   "cell_type": "code",
   "execution_count": 1,
   "metadata": {
    "colab": {
     "base_uri": "https://localhost:8080/",
     "height": 865
    },
    "colab_type": "code",
    "executionInfo": {
     "elapsed": 41323,
     "status": "ok",
     "timestamp": 1599478048687,
     "user": {
      "displayName": "김신우",
      "photoUrl": "",
      "userId": "06263622289797244680"
     },
     "user_tz": -540
    },
    "id": "7vh1krHmUQci",
    "outputId": "09afa224-7695-46db-9f15-8ba1ef75ca88"
   },
   "outputs": [
    {
     "name": "stdout",
     "output_type": "stream",
     "text": [
      "Collecting tensorflow==1.13.0rc0\n",
      "\u001b[?25l  Downloading https://files.pythonhosted.org/packages/b9/e3/d7fbb8b0bf5089b129610d7d3f4ac004bd23af7f217baca467f6292f8283/tensorflow-1.13.0rc0-cp36-cp36m-manylinux1_x86_64.whl (92.6MB)\n",
      "\u001b[K     |████████████████████████████████| 92.6MB 62kB/s \n",
      "\u001b[?25hRequirement already satisfied: gast>=0.2.0 in /usr/local/lib/python3.6/dist-packages (from tensorflow==1.13.0rc0) (0.3.3)\n",
      "Requirement already satisfied: grpcio>=1.8.6 in /usr/local/lib/python3.6/dist-packages (from tensorflow==1.13.0rc0) (1.31.0)\n",
      "Requirement already satisfied: wheel>=0.26 in /usr/local/lib/python3.6/dist-packages (from tensorflow==1.13.0rc0) (0.35.1)\n",
      "Collecting tensorboard<1.13.0,>=1.12.0\n",
      "\u001b[?25l  Downloading https://files.pythonhosted.org/packages/07/53/8d32ce9471c18f8d99028b7cef2e5b39ea8765bd7ef250ca05b490880971/tensorboard-1.12.2-py3-none-any.whl (3.0MB)\n",
      "\u001b[K     |████████████████████████████████| 3.1MB 53.9MB/s \n",
      "\u001b[?25hCollecting keras-applications>=1.0.6\n",
      "\u001b[?25l  Downloading https://files.pythonhosted.org/packages/71/e3/19762fdfc62877ae9102edf6342d71b28fbfd9dea3d2f96a882ce099b03f/Keras_Applications-1.0.8-py3-none-any.whl (50kB)\n",
      "\u001b[K     |████████████████████████████████| 51kB 6.8MB/s \n",
      "\u001b[?25hRequirement already satisfied: keras-preprocessing>=1.0.5 in /usr/local/lib/python3.6/dist-packages (from tensorflow==1.13.0rc0) (1.1.2)\n",
      "Requirement already satisfied: termcolor>=1.1.0 in /usr/local/lib/python3.6/dist-packages (from tensorflow==1.13.0rc0) (1.1.0)\n",
      "Requirement already satisfied: six>=1.10.0 in /usr/local/lib/python3.6/dist-packages (from tensorflow==1.13.0rc0) (1.15.0)\n",
      "Requirement already satisfied: astor>=0.6.0 in /usr/local/lib/python3.6/dist-packages (from tensorflow==1.13.0rc0) (0.8.1)\n",
      "Requirement already satisfied: numpy>=1.13.3 in /usr/local/lib/python3.6/dist-packages (from tensorflow==1.13.0rc0) (1.18.5)\n",
      "Requirement already satisfied: protobuf>=3.6.1 in /usr/local/lib/python3.6/dist-packages (from tensorflow==1.13.0rc0) (3.12.4)\n",
      "Requirement already satisfied: absl-py>=0.1.6 in /usr/local/lib/python3.6/dist-packages (from tensorflow==1.13.0rc0) (0.8.1)\n",
      "Requirement already satisfied: tensorflow-estimator>=1.10.0 in /usr/local/lib/python3.6/dist-packages (from tensorflow==1.13.0rc0) (2.3.0)\n",
      "Requirement already satisfied: markdown>=2.6.8 in /usr/local/lib/python3.6/dist-packages (from tensorboard<1.13.0,>=1.12.0->tensorflow==1.13.0rc0) (3.2.2)\n",
      "Requirement already satisfied: werkzeug>=0.11.10 in /usr/local/lib/python3.6/dist-packages (from tensorboard<1.13.0,>=1.12.0->tensorflow==1.13.0rc0) (1.0.1)\n",
      "Requirement already satisfied: h5py in /usr/local/lib/python3.6/dist-packages (from keras-applications>=1.0.6->tensorflow==1.13.0rc0) (2.10.0)\n",
      "Requirement already satisfied: setuptools in /usr/local/lib/python3.6/dist-packages (from protobuf>=3.6.1->tensorflow==1.13.0rc0) (49.6.0)\n",
      "Requirement already satisfied: importlib-metadata; python_version < \"3.8\" in /usr/local/lib/python3.6/dist-packages (from markdown>=2.6.8->tensorboard<1.13.0,>=1.12.0->tensorflow==1.13.0rc0) (1.7.0)\n",
      "Requirement already satisfied: zipp>=0.5 in /usr/local/lib/python3.6/dist-packages (from importlib-metadata; python_version < \"3.8\"->markdown>=2.6.8->tensorboard<1.13.0,>=1.12.0->tensorflow==1.13.0rc0) (3.1.0)\n",
      "Installing collected packages: tensorboard, keras-applications, tensorflow\n",
      "  Found existing installation: tensorboard 2.3.0\n",
      "    Uninstalling tensorboard-2.3.0:\n",
      "      Successfully uninstalled tensorboard-2.3.0\n",
      "  Found existing installation: tensorflow 2.3.0\n",
      "    Uninstalling tensorflow-2.3.0:\n",
      "      Successfully uninstalled tensorflow-2.3.0\n",
      "Successfully installed keras-applications-1.0.8 tensorboard-1.12.2 tensorflow-1.13.0rc0\n"
     ]
    },
    {
     "name": "stderr",
     "output_type": "stream",
     "text": [
      "/usr/local/lib/python3.6/dist-packages/tensorflow/python/framework/dtypes.py:526: FutureWarning: Passing (type, 1) or '1type' as a synonym of type is deprecated; in a future version of numpy, it will be understood as (type, (1,)) / '(1,)type'.\n",
      "  _np_qint8 = np.dtype([(\"qint8\", np.int8, 1)])\n",
      "/usr/local/lib/python3.6/dist-packages/tensorflow/python/framework/dtypes.py:527: FutureWarning: Passing (type, 1) or '1type' as a synonym of type is deprecated; in a future version of numpy, it will be understood as (type, (1,)) / '(1,)type'.\n",
      "  _np_quint8 = np.dtype([(\"quint8\", np.uint8, 1)])\n",
      "/usr/local/lib/python3.6/dist-packages/tensorflow/python/framework/dtypes.py:528: FutureWarning: Passing (type, 1) or '1type' as a synonym of type is deprecated; in a future version of numpy, it will be understood as (type, (1,)) / '(1,)type'.\n",
      "  _np_qint16 = np.dtype([(\"qint16\", np.int16, 1)])\n",
      "/usr/local/lib/python3.6/dist-packages/tensorflow/python/framework/dtypes.py:529: FutureWarning: Passing (type, 1) or '1type' as a synonym of type is deprecated; in a future version of numpy, it will be understood as (type, (1,)) / '(1,)type'.\n",
      "  _np_quint16 = np.dtype([(\"quint16\", np.uint16, 1)])\n",
      "/usr/local/lib/python3.6/dist-packages/tensorflow/python/framework/dtypes.py:530: FutureWarning: Passing (type, 1) or '1type' as a synonym of type is deprecated; in a future version of numpy, it will be understood as (type, (1,)) / '(1,)type'.\n",
      "  _np_qint32 = np.dtype([(\"qint32\", np.int32, 1)])\n",
      "/usr/local/lib/python3.6/dist-packages/tensorflow/python/framework/dtypes.py:535: FutureWarning: Passing (type, 1) or '1type' as a synonym of type is deprecated; in a future version of numpy, it will be understood as (type, (1,)) / '(1,)type'.\n",
      "  np_resource = np.dtype([(\"resource\", np.ubyte, 1)])\n"
     ]
    },
    {
     "data": {
      "application/vnd.google.colaboratory.intrinsic+json": {
       "type": "string"
      },
      "text/plain": [
       "'1.13.0-rc0'"
      ]
     },
     "execution_count": 1,
     "metadata": {
      "tags": []
     },
     "output_type": "execute_result"
    }
   ],
   "source": [
    "!pip install tensorflow==1.13.0rc0\n",
    "import tensorflow as tf\n",
    "tf.enable_eager_execution()\n",
    "tf.__version__"
   ]
  },
  {
   "cell_type": "code",
   "execution_count": 2,
   "metadata": {
    "colab": {
     "base_uri": "https://localhost:8080/",
     "height": 90
    },
    "colab_type": "code",
    "executionInfo": {
     "elapsed": 535,
     "status": "ok",
     "timestamp": 1599478261404,
     "user": {
      "displayName": "김신우",
      "photoUrl": "",
      "userId": "06263622289797244680"
     },
     "user_tz": -540
    },
    "id": "pNvgZs8KUYXi",
    "outputId": "8e3ff888-797d-43ff-de46-74437e33c75c"
   },
   "outputs": [
    {
     "name": "stdout",
     "output_type": "stream",
     "text": [
      "WARNING:tensorflow:From /usr/local/lib/python3.6/dist-packages/tensorflow/python/ops/resource_variable_ops.py:642: colocate_with (from tensorflow.python.framework.ops) is deprecated and will be removed in a future version.\n",
      "Instructions for updating:\n",
      "Colocations handled automatically by placer.\n"
     ]
    }
   ],
   "source": [
    "x1 = [73., 93., 89., 96., 73.]\n",
    "x2 = [80., 88., 91., 98., 66.]\n",
    "x3 = [75., 93., 90., 100., 70.]\n",
    "Y = [152., 185., 180., 196., 142.]\n",
    "\n",
    "w1 = tf.Variable(10.)\n",
    "w2 = tf.Variable(10.)\n",
    "w3 = tf.Variable(10.)\n",
    "b = tf.Variable(10.)\n",
    "\n",
    "hypothesis = w1 * x1 + w2 * x2 + w3 * x3 + b"
   ]
  },
  {
   "cell_type": "code",
   "execution_count": 4,
   "metadata": {
    "colab": {
     "base_uri": "https://localhost:8080/",
     "height": 386
    },
    "colab_type": "code",
    "executionInfo": {
     "elapsed": 1598,
     "status": "ok",
     "timestamp": 1599478490839,
     "user": {
      "displayName": "김신우",
      "photoUrl": "",
      "userId": "06263622289797244680"
     },
     "user_tz": -540
    },
    "id": "Xfh-_mPaVWQs",
    "outputId": "45667748-42ad-4dbd-bb52-b9bb8b627bc7"
   },
   "outputs": [
    {
     "name": "stdout",
     "output_type": "stream",
     "text": [
      "    0 |      94.8042\n",
      "   50 |       5.2304\n",
      "  100 |       4.2260\n",
      "  150 |       4.2044\n",
      "  200 |       4.1938\n",
      "  250 |       4.1833\n",
      "  300 |       4.1729\n",
      "  350 |       4.1625\n",
      "  400 |       4.1521\n",
      "  450 |       4.1417\n",
      "  500 |       4.1314\n",
      "  550 |       4.1211\n",
      "  600 |       4.1108\n",
      "  650 |       4.1006\n",
      "  700 |       4.0904\n",
      "  750 |       4.0801\n",
      "  800 |       4.0700\n",
      "  850 |       4.0598\n",
      "  900 |       4.0497\n",
      "  950 |       4.0396\n",
      " 1000 |       4.0296\n"
     ]
    }
   ],
   "source": [
    "x1 = [73., 93., 89., 96., 73.]\n",
    "x2 = [80., 88., 91., 98., 66.]\n",
    "x3 = [75., 93., 90., 100., 70.]\n",
    "Y = [152., 185., 180., 196., 142.]\n",
    "\n",
    "w1 = tf.Variable(tf.random_normal([1]))\n",
    "w2 = tf.Variable(tf.random_normal([1]))\n",
    "w3 = tf.Variable(tf.random_normal([1]))\n",
    "b = tf.Variable(tf.random_normal([1]))\n",
    "\n",
    "learning_rate = 0.000001\n",
    "\n",
    "for i in range(1000+1):\n",
    "  with tf.GradientTape() as tape:\n",
    "    hypothesis = w1 * x1 + w2 * x2 + w3 * x3 + b\n",
    "    cost = tf.reduce_mean(tf.square(hypothesis - Y))\n",
    "  w1_grad, w2_grad, w3_grad, b_grad = tape.gradient(cost, [w1, w2, w3, b])\n",
    "\n",
    "  w1.assign_sub(learning_rate * w1_grad)\n",
    "  w2.assign_sub(learning_rate * w2_grad)\n",
    "  w3.assign_sub(learning_rate * w3_grad)\n",
    "  b.assign_sub(learning_rate * b_grad)\n",
    "\n",
    "  if i % 50 == 0:\n",
    "    print(\"{:5} | {:12.4f}\".format(i, cost.numpy()))"
   ]
  },
  {
   "cell_type": "code",
   "execution_count": 6,
   "metadata": {
    "colab": {},
    "colab_type": "code",
    "executionInfo": {
     "elapsed": 606,
     "status": "ok",
     "timestamp": 1599478691377,
     "user": {
      "displayName": "김신우",
      "photoUrl": "",
      "userId": "06263622289797244680"
     },
     "user_tz": -540
    },
    "id": "ZbKlgTW1WHOY"
   },
   "outputs": [],
   "source": [
    "import numpy as np\n",
    "\n",
    "data = np.array([\n",
    "                 [73., 80., 75., 152.],\n",
    "                 [93., 88., 93., 185.],\n",
    "                 [89., 91., 90., 180.],\n",
    "                 [96., 98., 100., 196.],\n",
    "                 [73., 66., 70., 142.],\n",
    "], dtype=np.float32)"
   ]
  },
  {
   "cell_type": "code",
   "execution_count": 8,
   "metadata": {
    "colab": {
     "base_uri": "https://localhost:8080/",
     "height": 386
    },
    "colab_type": "code",
    "executionInfo": {
     "elapsed": 1902,
     "status": "ok",
     "timestamp": 1599478995994,
     "user": {
      "displayName": "김신우",
      "photoUrl": "",
      "userId": "06263622289797244680"
     },
     "user_tz": -540
    },
    "id": "jdFKlmwrW7QJ",
    "outputId": "9f1841bd-0305-41ef-f28a-a4be56dea36c"
   },
   "outputs": [
    {
     "name": "stdout",
     "output_type": "stream",
     "text": [
      "    0 | 38988.8984\n",
      "  100 |    39.7789\n",
      "  200 |    34.8223\n",
      "  300 |    34.6615\n",
      "  400 |    34.5021\n",
      "  500 |    34.3435\n",
      "  600 |    34.1859\n",
      "  700 |    34.0289\n",
      "  800 |    33.8728\n",
      "  900 |    33.7176\n",
      " 1000 |    33.5632\n",
      " 1100 |    33.4097\n",
      " 1200 |    33.2570\n",
      " 1300 |    33.1052\n",
      " 1400 |    32.9543\n",
      " 1500 |    32.8041\n",
      " 1600 |    32.6546\n",
      " 1700 |    32.5060\n",
      " 1800 |    32.3581\n",
      " 1900 |    32.2110\n",
      " 2000 |    32.0646\n"
     ]
    }
   ],
   "source": [
    "x = data[:, :-1]\n",
    "y = data[:, [-1]]\n",
    "\n",
    "W = tf.Variable(tf.random_normal([3, 1]))\n",
    "b = tf.Variable(tf.random_normal([1]))\n",
    "\n",
    "learning_rate = 0.000001\n",
    "\n",
    "def predict(x):\n",
    "  return tf.matmul(x, W) + b\n",
    "\n",
    "n_epochs = 2000\n",
    "for i in range(n_epochs+1):\n",
    "  with tf.GradientTape() as tape:\n",
    "    cost = tf.reduce_mean(tf.square(predict(x) - y))\n",
    "\n",
    "  W_grad, b_grad = tape.gradient(cost, [W, b])\n",
    "\n",
    "  W.assign_sub(learning_rate * W_grad)\n",
    "  b.assign_sub(learning_rate * b_grad)\n",
    "\n",
    "  if i % 100 ==0:\n",
    "    print(\"{:5} | {:10.4f}\".format(i, cost.numpy()))"
   ]
  },
  {
   "cell_type": "code",
   "execution_count": null,
   "metadata": {
    "colab": {},
    "colab_type": "code",
    "id": "biTorfhoYE87"
   },
   "outputs": [],
   "source": []
  }
 ],
 "metadata": {
  "colab": {
   "authorship_tag": "ABX9TyNxNZTJRr/jwDX6WYkdSGjZ",
   "collapsed_sections": [],
   "name": "Lab4 - Multi variable linear regression.ipynb",
   "provenance": []
  },
  "kernelspec": {
   "display_name": "Python 3",
   "language": "python",
   "name": "python3"
  },
  "language_info": {
   "codemirror_mode": {
    "name": "ipython",
    "version": 3
   },
   "file_extension": ".py",
   "mimetype": "text/x-python",
   "name": "python",
   "nbconvert_exporter": "python",
   "pygments_lexer": "ipython3",
   "version": "3.7.1"
  }
 },
 "nbformat": 4,
 "nbformat_minor": 1
}
