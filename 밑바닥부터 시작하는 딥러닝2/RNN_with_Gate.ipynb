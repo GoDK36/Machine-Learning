{
 "metadata": {
  "language_info": {
   "codemirror_mode": {
    "name": "ipython",
    "version": 3
   },
   "file_extension": ".py",
   "mimetype": "text/x-python",
   "name": "python",
   "nbconvert_exporter": "python",
   "pygments_lexer": "ipython3",
   "version": 3
  },
  "orig_nbformat": 2,
  "kernelspec": {
   "name": "python_defaultSpec_1596469205127",
   "display_name": "Python 3.7.7 64-bit ('base': conda)"
  }
 },
 "nbformat": 4,
 "nbformat_minor": 2,
 "cells": [
  {
   "cell_type": "code",
   "execution_count": 1,
   "metadata": {},
   "outputs": [],
   "source": [
    "import numpy as np\n",
    "import matplotlib.pyplot as plt"
   ]
  },
  {
   "cell_type": "markdown",
   "metadata": {},
   "source": [
    "### 기울기 폭발 알아보기"
   ]
  },
  {
   "cell_type": "code",
   "execution_count": 4,
   "metadata": {
    "tags": []
   },
   "outputs": [
    {
     "output_type": "stream",
     "name": "stdout",
     "text": "[[1. 1. 1.]\n [1. 1. 1.]]\n[[ 1.78862847  0.43650985  0.09649747]\n [-1.8634927  -0.2773882  -0.35475898]\n [-0.08274148 -0.62700068 -0.04381817]]\n2.4684068094579303\n3.3357049741610365\n4.783279375373182\n6.279587332087612\n8.080776465019053\n10.251163032292936\n12.936063506609896\n16.276861327786712\n20.45482961834598\n25.688972842084684\n32.25315718048336\n40.48895641683869\n50.8244073070191\n63.79612654485427\n80.07737014308985\n100.5129892205125\n126.16331847536823\n158.35920648258823\n198.7710796761195\n249.495615421267\n"
    }
   ],
   "source": [
    "# RNN Matmul 노드의 역전파\n",
    "\n",
    "N = 2   # 미니배치 크기\n",
    "H = 3   # 은닉 상태 벡터의 차원 수\n",
    "T = 20  # 시계열 데이터의 길이\n",
    "\n",
    "dh = np.ones((N, H))\n",
    "np.random.seed(3)       # 재현할 수 있는 난수의 시드 고정\n",
    "Wh = np.random.randn(H, H)\n",
    "print(dh)\n",
    "print(Wh)\n",
    "\n",
    "norm_list = []\n",
    "for t in range(T):\n",
    "    dh = np.matmul(dh, Wh.T)\n",
    "    norm = np.sqrt(np.sum(dh**2)) / N\n",
    "    norm_list.append(norm)\n",
    "    print(norm)"
   ]
  },
  {
   "cell_type": "markdown",
   "metadata": {},
   "source": [
    "### 기울기 소실"
   ]
  },
  {
   "cell_type": "code",
   "execution_count": 5,
   "metadata": {
    "tags": []
   },
   "outputs": [
    {
     "output_type": "stream",
     "name": "stdout",
     "text": "[[1. 1. 1.]\n [1. 1. 1.]]\n[[ 0.89431424  0.21825493  0.04824873]\n [-0.93174635 -0.1386941  -0.17737949]\n [-0.04137074 -0.31350034 -0.02190908]]\n1.2342034047289652\n0.8339262435402591\n0.5979099219216477\n0.39247420825547574\n0.2525242645318454\n0.16017442237957713\n0.10106299614538981\n0.06358148956166684\n0.03995083909833199\n0.025086887541098325\n0.015748611904532892\n0.009884999125204758\n0.006204151282595105\n0.003893806551809953\n0.002443767399386287\n0.0015337065005571365\n0.0009625497320203265\n0.0006040924319556741\n0.00037912574706291106\n0.00023793756048323344\n"
    }
   ],
   "source": [
    "N = 2   # 미니배치 크기\n",
    "H = 3   # 은닉 상태 벡터의 차원 수\n",
    "T = 20  # 시계열 데이터의 길이\n",
    "\n",
    "dh = np.ones((N, H))\n",
    "np.random.seed(3)       # 재현할 수 있는 난수의 시드 고정\n",
    "Wh = np.random.randn(H, H) * 0.5    # 초기값 변경\n",
    "print(dh)\n",
    "print(Wh)\n",
    "\n",
    "norm_list = []\n",
    "for t in range(T):\n",
    "    dh = np.matmul(dh, Wh.T)\n",
    "    norm = np.sqrt(np.sum(dh**2)) / N\n",
    "    norm_list.append(norm)\n",
    "    print(norm)"
   ]
  },
  {
   "cell_type": "markdown",
   "metadata": {},
   "source": [
    "## 기울기 클리핑\n",
    "### 기울기 폭발을 막는 전통적인 기법"
   ]
  },
  {
   "cell_type": "code",
   "execution_count": 8,
   "metadata": {},
   "outputs": [],
   "source": [
    "dW1 = np.random.rand(3, 3) * 10\n",
    "dW2 = np.random.rand(3, 3) * 10\n",
    "grads = [dW1, dW2]\n",
    "max_norm = 5.0\n",
    "\n",
    "def clip_grads(grads, max_norm):\n",
    "    total_norm = 0\n",
    "    for grad in grads:\n",
    "        total_norm += np.sum(grad ** 2)\n",
    "    total_norm = np.sqrt(total_norm)\n",
    "\n",
    "    rate = max_norm / (total_norm + 1e-6)\n",
    "    if rate < 1:\n",
    "        for grad in grads:\n",
    "            grad *= rate"
   ]
  },
  {
   "cell_type": "code",
   "execution_count": null,
   "metadata": {},
   "outputs": [],
   "source": []
  }
 ]
}