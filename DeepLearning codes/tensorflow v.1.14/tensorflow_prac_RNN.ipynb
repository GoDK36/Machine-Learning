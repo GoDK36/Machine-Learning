{
 "cells": [
  {
   "cell_type": "markdown",
   "metadata": {},
   "source": [
    "# RNN"
   ]
  },
  {
   "cell_type": "code",
   "execution_count": 6,
   "metadata": {},
   "outputs": [],
   "source": [
    "import tensorflow as tf\n",
    "import numpy as np\n",
    "import matplotlib.pyplot as plt\n",
    "import pprint as pp"
   ]
  },
  {
   "cell_type": "code",
   "execution_count": 7,
   "metadata": {},
   "outputs": [
    {
     "output_type": "stream",
     "name": "stdout",
     "text": "array([[[-0.02286422, -0.01843275]]], dtype=float32)\n"
    }
   ],
   "source": [
    "tf.reset_default_graph()\n",
    "sess = tf.InteractiveSession()\n",
    "\n",
    "hidden_size = 2                                                 # 출력값의 차원 크기가 2\n",
    "cell = tf.contrib.rnn.BasicLSTMCell(num_units=hidden_size)\n",
    "\n",
    "x_data = np.array([[[1, 0, 0, 0]]], dtype=np.float32)\n",
    "outputs, _states = tf.nn.dynamic_rnn(cell, x_data, dtype=tf.float32)\n",
    "\n",
    "sess.run(tf.global_variables_initializer())\n",
    "pp.pprint(outputs.eval())"
   ]
  },
  {
   "cell_type": "code",
   "execution_count": 10,
   "metadata": {},
   "outputs": [
    {
     "output_type": "stream",
     "name": "stdout",
     "text": "(1, 5, 4)\narray([[[1., 0., 0., 0.],\n        [0., 1., 0., 0.],\n        [0., 0., 1., 0.],\n        [0., 0., 1., 0.],\n        [0., 0., 0., 1.]]], dtype=float32)\narray([[[-0.08621567,  0.02229959],\n        [-0.13066664, -0.03033137],\n        [-0.11400522, -0.10875792],\n        [-0.09169253, -0.16604638],\n        [-0.1809616 , -0.10848189]]], dtype=float32)\n"
    }
   ],
   "source": [
    "## sequence를 5로 설정\n",
    "tf.reset_default_graph()\n",
    "sess = tf.InteractiveSession()\n",
    "\n",
    "hidden_size = 2                                                 # 출력값의 차원 크기가 2\n",
    "cell = tf.contrib.rnn.BasicLSTMCell(num_units=hidden_size)\n",
    "\n",
    "# one hot encoding\n",
    "h = [1, 0, 0, 0]\n",
    "e = [0, 1, 0, 0]\n",
    "l = [0, 0, 1, 0]\n",
    "o = [0, 0, 0, 1]\n",
    "\n",
    "x_data = np.array([[h, e, l, l, o]], dtype=np.float32)           # 시퀀스가 5(h,e,l,l,o))\n",
    "print(x_data.shape)\n",
    "pp.pprint(x_data)\n",
    "outputs, _states = tf.nn.dynamic_rnn(cell, x_data, dtype=tf.float32)\n",
    "\n",
    "sess.run(tf.global_variables_initializer())\n",
    "pp.pprint(outputs.eval())"
   ]
  },
  {
   "cell_type": "code",
   "execution_count": 11,
   "metadata": {},
   "outputs": [
    {
     "output_type": "stream",
     "name": "stdout",
     "text": "array([[[1., 0., 0., 0.],\n        [0., 1., 0., 0.],\n        [0., 0., 1., 0.],\n        [0., 0., 1., 0.],\n        [0., 0., 0., 1.]],\n\n       [[0., 1., 0., 0.],\n        [0., 0., 0., 1.],\n        [0., 0., 1., 0.],\n        [0., 0., 1., 0.],\n        [0., 0., 1., 0.]],\n\n       [[0., 0., 1., 0.],\n        [0., 0., 1., 0.],\n        [0., 1., 0., 0.],\n        [0., 1., 0., 0.],\n        [0., 0., 1., 0.]]], dtype=float32)\narray([[[-0.04989181,  0.0251299 ],\n        [-0.02114385, -0.11054849],\n        [-0.14788543, -0.12186845],\n        [-0.2114226 , -0.15461153],\n        [-0.1832151 , -0.08081879]],\n\n       [[ 0.01318265, -0.11524928],\n        [-0.06544366, -0.02285126],\n        [-0.1768936 , -0.06973846],\n        [-0.22775711, -0.11750108],\n        [-0.2519708 , -0.16067542]],\n\n       [[-0.1425745 , -0.04141676],\n        [-0.21199252, -0.09108209],\n        [-0.16238724, -0.20074753],\n        [-0.11338816, -0.24849628],\n        [-0.18862401, -0.22968963]]], dtype=float32)\n"
    }
   ],
   "source": [
    "## batch size 설정\n",
    "tf.reset_default_graph()\n",
    "sess = tf.InteractiveSession()\n",
    "\n",
    "hidden_size = 2   \n",
    "\n",
    "x_data = np.array([[h, e, l, l, o],\n",
    "                    [e, o, l, l, l],\n",
    "                    [l, l, e, e, l]], dtype=np.float32)                         # batch_size가 3이다\n",
    "\n",
    "pp.pprint(x_data)\n",
    "\n",
    "cell = tf.contrib.rnn.BasicLSTMCell(num_units=hidden_size, state_is_tuple=True)\n",
    "\n",
    "outputs, _states = tf.nn.dynamic_rnn(cell, x_data, dtype=tf.float32)\n",
    "\n",
    "sess.run(tf.global_variables_initializer())\n",
    "pp.pprint(outputs.eval())"
   ]
  },
  {
   "cell_type": "code",
   "execution_count": 12,
   "metadata": {},
   "outputs": [],
   "source": [
    "# one hot encoding\n",
    "h = [1, 0, 0, 0, 0]\n",
    "i = [0, 1, 0, 0, 0]\n",
    "e = [0, 0, 1, 0, 0]\n",
    "l = [0, 0, 0, 1, 0]\n",
    "o = [0, 0, 0, 0, 1]"
   ]
  },
  {
   "cell_type": "code",
   "execution_count": 15,
   "metadata": {},
   "outputs": [
    {
     "output_type": "stream",
     "name": "stdout",
     "text": "Loss:  0.5967595\n"
    }
   ],
   "source": [
    "# seq_loss\n",
    "\n",
    "y_data = tf.constant([[1, 1, 1]])\n",
    "\n",
    "prediction = tf.constant([[[0.2, 0.7], [0.6, 0.2], [0.2, 0.9]]], dtype=tf.float32)\n",
    "\n",
    "weights = tf.constant([[1, 1, 1]], dtype=tf.float32)\n",
    "\n",
    "sequence_loss = tf.contrib.seq2seq.sequence_loss(logits=prediction, targets=y_data, weights=weights)\n",
    "\n",
    "sess.run(tf.global_variables_initializer())\n",
    "\n",
    "print(\"Loss: \", sequence_loss.eval())"
   ]
  },
  {
   "cell_type": "code",
   "execution_count": 16,
   "metadata": {},
   "outputs": [
    {
     "output_type": "stream",
     "name": "stdout",
     "text": "Loss1:  0.5130153 Loss2:  0.3711007\n"
    }
   ],
   "source": [
    "# seq_loss\n",
    "\n",
    "y_data = tf.constant([[1, 1, 1]])\n",
    "\n",
    "prediction1 = tf.constant([[[0.3, 0.7], [0.3, 0.7], [0.3, 0.7]]], dtype=tf.float32)\n",
    "prediction2 = tf.constant([[[0.1, 0.9], [0.1, 0.9], [0.1, 0.9]]], dtype=tf.float32)\n",
    "\n",
    "weights = tf.constant([[1, 1, 1]], dtype=tf.float32)\n",
    "\n",
    "sequence_loss1 = tf.contrib.seq2seq.sequence_loss(logits=prediction1, targets=y_data, weights=weights)\n",
    "sequence_loss2 = tf.contrib.seq2seq.sequence_loss(logits=prediction2, targets=y_data, weights=weights)\n",
    "\n",
    "sess.run(tf.global_variables_initializer())\n",
    "\n",
    "print(\"Loss1: \", sequence_loss1.eval(),\n",
    "        \"Loss2: \", sequence_loss2.eval())"
   ]
  },
  {
   "cell_type": "code",
   "execution_count": 17,
   "metadata": {},
   "outputs": [],
   "source": [
    "## RNN model\n",
    "tf.reset_default_graph()\n",
    "sess = tf.InteractiveSession()\n",
    "\n",
    "hidden_size = 5\n",
    "input_dim = 5\n",
    "batch_size = 1\n",
    "sequence_length = 6\n",
    "\n",
    "idx2char = ['h', 'i', 'e', 'l', 'o']\n",
    "x_data = [[0, 1, 0, 2, 3, 3]]\n",
    "x_one_hot = [[[1, 0, 0, 0, 0],\n",
    "            [0, 1, 0, 0, 0],\n",
    "            [1, 0, 0, 0, 0],\n",
    "            [0, 0, 1, 0, 0],\n",
    "            [0, 0, 0, 1, 0],\n",
    "            [0, 0, 0, 1, 0]]]\n",
    "y_data = [[1, 0, 2, 3, 3, 4]]\n",
    "\n",
    "X = tf.placeholder(tf.float32, [None, sequence_length, input_dim])\n",
    "Y = tf.placeholder(tf.int32, [None, sequence_length])\n",
    "\n",
    "cell = tf.contrib.rnn.BasicLSTMCell(num_units=hidden_size, state_is_tuple=True)\n",
    "initial_state = cell.zero_state(batch_size, tf.float32)\n",
    "outputs, _states = tf.nn.dynamic_rnn(cell, X, initial_state=initial_state, dtype=tf.float32)"
   ]
  },
  {
   "cell_type": "code",
   "execution_count": 18,
   "metadata": {},
   "outputs": [],
   "source": [
    "outputs, _states = tf.nn.dynamic_rnn(cell, X, initial_state=initial_state, dtype=tf.float32)\n",
    "weights = tf.ones([batch_size, sequence_length])\n",
    "\n",
    "sequence_loss = tf.contrib.seq2seq.sequence_loss(logits=outputs, targets=Y, weights=weights)      # rnn에 나온 output을 바로 넣으면 안됨!\n",
    "loss = tf.reduce_mean(sequence_loss)\n",
    "train = tf.train.AdamOptimizer(learning_rate=0.1).minimize(loss)"
   ]
  },
  {
   "cell_type": "code",
   "execution_count": 20,
   "metadata": {
    "tags": [
     "outputPrepend",
     "outputPrepend",
     "outputPrepend",
     "outputPrepend",
     "outputPrepend",
     "outputPrepend",
     "outputPrepend",
     "outputPrepend",
     "outputPrepend",
     "outputPrepend",
     "outputPrepend",
     "outputPrepend",
     "outputPrepend",
     "outputPrepend",
     "outputPrepend",
     "outputPrepend",
     "outputPrepend",
     "outputPrepend",
     "outputPrepend",
     "outputPrepend",
     "outputPrepend",
     "outputPrepend",
     "outputPrepend"
    ]
   },
   "outputs": [
    {
     "output_type": "stream",
     "name": "stdout",
     "text": " 0.5854684 prediction:  [[1 0 2 3 3 4]] true Y:  [[1, 0, 2, 3, 3, 4]]\n\\Presiction str:  ihello\n1811 loss: 0.5854663 prediction:  [[1 0 2 3 3 4]] true Y:  [[1, 0, 2, 3, 3, 4]]\n\\Presiction str:  ihello\n1812 loss: 0.5854642 prediction:  [[1 0 2 3 3 4]] true Y:  [[1, 0, 2, 3, 3, 4]]\n\\Presiction str:  ihello\n1813 loss: 0.58546215 prediction:  [[1 0 2 3 3 4]] true Y:  [[1, 0, 2, 3, 3, 4]]\n\\Presiction str:  ihello\n1814 loss: 0.58546007 prediction:  [[1 0 2 3 3 4]] true Y:  [[1, 0, 2, 3, 3, 4]]\n\\Presiction str:  ihello\n1815 loss: 0.585458 prediction:  [[1 0 2 3 3 4]] true Y:  [[1, 0, 2, 3, 3, 4]]\n\\Presiction str:  ihello\n1816 loss: 0.58545583 prediction:  [[1 0 2 3 3 4]] true Y:  [[1, 0, 2, 3, 3, 4]]\n\\Presiction str:  ihello\n1817 loss: 0.58545375 prediction:  [[1 0 2 3 3 4]] true Y:  [[1, 0, 2, 3, 3, 4]]\n\\Presiction str:  ihello\n1818 loss: 0.58545166 prediction:  [[1 0 2 3 3 4]] true Y:  [[1, 0, 2, 3, 3, 4]]\n\\Presiction str:  ihello\n1819 loss: 0.58544964 prediction:  [[1 0 2 3 3 4]] true Y:  [[1, 0, 2, 3, 3, 4]]\n\\Presiction str:  ihello\n1820 loss: 0.58544755 prediction:  [[1 0 2 3 3 4]] true Y:  [[1, 0, 2, 3, 3, 4]]\n\\Presiction str:  ihello\n1821 loss: 0.5854454 prediction:  [[1 0 2 3 3 4]] true Y:  [[1, 0, 2, 3, 3, 4]]\n\\Presiction str:  ihello\n1822 loss: 0.5854433 prediction:  [[1 0 2 3 3 4]] true Y:  [[1, 0, 2, 3, 3, 4]]\n\\Presiction str:  ihello\n1823 loss: 0.5854413 prediction:  [[1 0 2 3 3 4]] true Y:  [[1, 0, 2, 3, 3, 4]]\n\\Presiction str:  ihello\n1824 loss: 0.5854391 prediction:  [[1 0 2 3 3 4]] true Y:  [[1, 0, 2, 3, 3, 4]]\n\\Presiction str:  ihello\n1825 loss: 0.58543706 prediction:  [[1 0 2 3 3 4]] true Y:  [[1, 0, 2, 3, 3, 4]]\n\\Presiction str:  ihello\n1826 loss: 0.585435 prediction:  [[1 0 2 3 3 4]] true Y:  [[1, 0, 2, 3, 3, 4]]\n\\Presiction str:  ihello\n1827 loss: 0.5854329 prediction:  [[1 0 2 3 3 4]] true Y:  [[1, 0, 2, 3, 3, 4]]\n\\Presiction str:  ihello\n1828 loss: 0.5854308 prediction:  [[1 0 2 3 3 4]] true Y:  [[1, 0, 2, 3, 3, 4]]\n\\Presiction str:  ihello\n1829 loss: 0.5854288 prediction:  [[1 0 2 3 3 4]] true Y:  [[1, 0, 2, 3, 3, 4]]\n\\Presiction str:  ihello\n1830 loss: 0.58542675 prediction:  [[1 0 2 3 3 4]] true Y:  [[1, 0, 2, 3, 3, 4]]\n\\Presiction str:  ihello\n1831 loss: 0.58542466 prediction:  [[1 0 2 3 3 4]] true Y:  [[1, 0, 2, 3, 3, 4]]\n\\Presiction str:  ihello\n1832 loss: 0.5854226 prediction:  [[1 0 2 3 3 4]] true Y:  [[1, 0, 2, 3, 3, 4]]\n\\Presiction str:  ihello\n1833 loss: 0.5854204 prediction:  [[1 0 2 3 3 4]] true Y:  [[1, 0, 2, 3, 3, 4]]\n\\Presiction str:  ihello\n1834 loss: 0.5854184 prediction:  [[1 0 2 3 3 4]] true Y:  [[1, 0, 2, 3, 3, 4]]\n\\Presiction str:  ihello\n1835 loss: 0.5854164 prediction:  [[1 0 2 3 3 4]] true Y:  [[1, 0, 2, 3, 3, 4]]\n\\Presiction str:  ihello\n1836 loss: 0.5854143 prediction:  [[1 0 2 3 3 4]] true Y:  [[1, 0, 2, 3, 3, 4]]\n\\Presiction str:  ihello\n1837 loss: 0.58541226 prediction:  [[1 0 2 3 3 4]] true Y:  [[1, 0, 2, 3, 3, 4]]\n\\Presiction str:  ihello\n1838 loss: 0.5854102 prediction:  [[1 0 2 3 3 4]] true Y:  [[1, 0, 2, 3, 3, 4]]\n\\Presiction str:  ihello\n1839 loss: 0.5854081 prediction:  [[1 0 2 3 3 4]] true Y:  [[1, 0, 2, 3, 3, 4]]\n\\Presiction str:  ihello\n1840 loss: 0.585406 prediction:  [[1 0 2 3 3 4]] true Y:  [[1, 0, 2, 3, 3, 4]]\n\\Presiction str:  ihello\n1841 loss: 0.585404 prediction:  [[1 0 2 3 3 4]] true Y:  [[1, 0, 2, 3, 3, 4]]\n\\Presiction str:  ihello\n1842 loss: 0.58540183 prediction:  [[1 0 2 3 3 4]] true Y:  [[1, 0, 2, 3, 3, 4]]\n\\Presiction str:  ihello\n1843 loss: 0.58539987 prediction:  [[1 0 2 3 3 4]] true Y:  [[1, 0, 2, 3, 3, 4]]\n\\Presiction str:  ihello\n1844 loss: 0.5853978 prediction:  [[1 0 2 3 3 4]] true Y:  [[1, 0, 2, 3, 3, 4]]\n\\Presiction str:  ihello\n1845 loss: 0.58539575 prediction:  [[1 0 2 3 3 4]] true Y:  [[1, 0, 2, 3, 3, 4]]\n\\Presiction str:  ihello\n1846 loss: 0.5853937 prediction:  [[1 0 2 3 3 4]] true Y:  [[1, 0, 2, 3, 3, 4]]\n\\Presiction str:  ihello\n1847 loss: 0.58539164 prediction:  [[1 0 2 3 3 4]] true Y:  [[1, 0, 2, 3, 3, 4]]\n\\Presiction str:  ihello\n1848 loss: 0.5853896 prediction:  [[1 0 2 3 3 4]] true Y:  [[1, 0, 2, 3, 3, 4]]\n\\Presiction str:  ihello\n1849 loss: 0.5853875 prediction:  [[1 0 2 3 3 4]] true Y:  [[1, 0, 2, 3, 3, 4]]\n\\Presiction str:  ihello\n1850 loss: 0.5853855 prediction:  [[1 0 2 3 3 4]] true Y:  [[1, 0, 2, 3, 3, 4]]\n\\Presiction str:  ihello\n1851 loss: 0.5853835 prediction:  [[1 0 2 3 3 4]] true Y:  [[1, 0, 2, 3, 3, 4]]\n\\Presiction str:  ihello\n1852 loss: 0.5853814 prediction:  [[1 0 2 3 3 4]] true Y:  [[1, 0, 2, 3, 3, 4]]\n\\Presiction str:  ihello\n1853 loss: 0.58537936 prediction:  [[1 0 2 3 3 4]] true Y:  [[1, 0, 2, 3, 3, 4]]\n\\Presiction str:  ihello\n1854 loss: 0.5853774 prediction:  [[1 0 2 3 3 4]] true Y:  [[1, 0, 2, 3, 3, 4]]\n\\Presiction str:  ihello\n1855 loss: 0.58537537 prediction:  [[1 0 2 3 3 4]] true Y:  [[1, 0, 2, 3, 3, 4]]\n\\Presiction str:  ihello\n1856 loss: 0.5853733 prediction:  [[1 0 2 3 3 4]] true Y:  [[1, 0, 2, 3, 3, 4]]\n\\Presiction str:  ihello\n1857 loss: 0.58537126 prediction:  [[1 0 2 3 3 4]] true Y:  [[1, 0, 2, 3, 3, 4]]\n\\Presiction str:  ihello\n1858 loss: 0.5853693 prediction:  [[1 0 2 3 3 4]] true Y:  [[1, 0, 2, 3, 3, 4]]\n\\Presiction str:  ihello\n1859 loss: 0.58536714 prediction:  [[1 0 2 3 3 4]] true Y:  [[1, 0, 2, 3, 3, 4]]\n\\Presiction str:  ihello\n1860 loss: 0.58536506 prediction:  [[1 0 2 3 3 4]] true Y:  [[1, 0, 2, 3, 3, 4]]\n\\Presiction str:  ihello\n1861 loss: 0.5853631 prediction:  [[1 0 2 3 3 4]] true Y:  [[1, 0, 2, 3, 3, 4]]\n\\Presiction str:  ihello\n1862 loss: 0.58536106 prediction:  [[1 0 2 3 3 4]] true Y:  [[1, 0, 2, 3, 3, 4]]\n\\Presiction str:  ihello\n1863 loss: 0.58535904 prediction:  [[1 0 2 3 3 4]] true Y:  [[1, 0, 2, 3, 3, 4]]\n\\Presiction str:  ihello\n1864 loss: 0.585357 prediction:  [[1 0 2 3 3 4]] true Y:  [[1, 0, 2, 3, 3, 4]]\n\\Presiction str:  ihello\n1865 loss: 0.585355 prediction:  [[1 0 2 3 3 4]] true Y:  [[1, 0, 2, 3, 3, 4]]\n\\Presiction str:  ihello\n1866 loss: 0.585353 prediction:  [[1 0 2 3 3 4]] true Y:  [[1, 0, 2, 3, 3, 4]]\n\\Presiction str:  ihello\n1867 loss: 0.58535093 prediction:  [[1 0 2 3 3 4]] true Y:  [[1, 0, 2, 3, 3, 4]]\n\\Presiction str:  ihello\n1868 loss: 0.5853489 prediction:  [[1 0 2 3 3 4]] true Y:  [[1, 0, 2, 3, 3, 4]]\n\\Presiction str:  ihello\n1869 loss: 0.5853469 prediction:  [[1 0 2 3 3 4]] true Y:  [[1, 0, 2, 3, 3, 4]]\n\\Presiction str:  ihello\n1870 loss: 0.58534485 prediction:  [[1 0 2 3 3 4]] true Y:  [[1, 0, 2, 3, 3, 4]]\n\\Presiction str:  ihello\n1871 loss: 0.5853428 prediction:  [[1 0 2 3 3 4]] true Y:  [[1, 0, 2, 3, 3, 4]]\n\\Presiction str:  ihello\n1872 loss: 0.58534086 prediction:  [[1 0 2 3 3 4]] true Y:  [[1, 0, 2, 3, 3, 4]]\n\\Presiction str:  ihello\n1873 loss: 0.58533883 prediction:  [[1 0 2 3 3 4]] true Y:  [[1, 0, 2, 3, 3, 4]]\n\\Presiction str:  ihello\n1874 loss: 0.58533686 prediction:  [[1 0 2 3 3 4]] true Y:  [[1, 0, 2, 3, 3, 4]]\n\\Presiction str:  ihello\n1875 loss: 0.5853348 prediction:  [[1 0 2 3 3 4]] true Y:  [[1, 0, 2, 3, 3, 4]]\n\\Presiction str:  ihello\n1876 loss: 0.5853328 prediction:  [[1 0 2 3 3 4]] true Y:  [[1, 0, 2, 3, 3, 4]]\n\\Presiction str:  ihello\n1877 loss: 0.5853308 prediction:  [[1 0 2 3 3 4]] true Y:  [[1, 0, 2, 3, 3, 4]]\n\\Presiction str:  ihello\n1878 loss: 0.58532876 prediction:  [[1 0 2 3 3 4]] true Y:  [[1, 0, 2, 3, 3, 4]]\n\\Presiction str:  ihello\n1879 loss: 0.5853268 prediction:  [[1 0 2 3 3 4]] true Y:  [[1, 0, 2, 3, 3, 4]]\n\\Presiction str:  ihello\n1880 loss: 0.5853248 prediction:  [[1 0 2 3 3 4]] true Y:  [[1, 0, 2, 3, 3, 4]]\n\\Presiction str:  ihello\n1881 loss: 0.58532274 prediction:  [[1 0 2 3 3 4]] true Y:  [[1, 0, 2, 3, 3, 4]]\n\\Presiction str:  ihello\n1882 loss: 0.5853208 prediction:  [[1 0 2 3 3 4]] true Y:  [[1, 0, 2, 3, 3, 4]]\n\\Presiction str:  ihello\n1883 loss: 0.58531874 prediction:  [[1 0 2 3 3 4]] true Y:  [[1, 0, 2, 3, 3, 4]]\n\\Presiction str:  ihello\n1884 loss: 0.5853167 prediction:  [[1 0 2 3 3 4]] true Y:  [[1, 0, 2, 3, 3, 4]]\n\\Presiction str:  ihello\n1885 loss: 0.58531475 prediction:  [[1 0 2 3 3 4]] true Y:  [[1, 0, 2, 3, 3, 4]]\n\\Presiction str:  ihello\n1886 loss: 0.5853128 prediction:  [[1 0 2 3 3 4]] true Y:  [[1, 0, 2, 3, 3, 4]]\n\\Presiction str:  ihello\n1887 loss: 0.58531076 prediction:  [[1 0 2 3 3 4]] true Y:  [[1, 0, 2, 3, 3, 4]]\n\\Presiction str:  ihello\n1888 loss: 0.5853088 prediction:  [[1 0 2 3 3 4]] true Y:  [[1, 0, 2, 3, 3, 4]]\n\\Presiction str:  ihello\n1889 loss: 0.5853068 prediction:  [[1 0 2 3 3 4]] true Y:  [[1, 0, 2, 3, 3, 4]]\n\\Presiction str:  ihello\n1890 loss: 0.5853048 prediction:  [[1 0 2 3 3 4]] true Y:  [[1, 0, 2, 3, 3, 4]]\n\\Presiction str:  ihello\n1891 loss: 0.5853028 prediction:  [[1 0 2 3 3 4]] true Y:  [[1, 0, 2, 3, 3, 4]]\n\\Presiction str:  ihello\n1892 loss: 0.58530086 prediction:  [[1 0 2 3 3 4]] true Y:  [[1, 0, 2, 3, 3, 4]]\n\\Presiction str:  ihello\n1893 loss: 0.58529884 prediction:  [[1 0 2 3 3 4]] true Y:  [[1, 0, 2, 3, 3, 4]]\n\\Presiction str:  ihello\n1894 loss: 0.5852968 prediction:  [[1 0 2 3 3 4]] true Y:  [[1, 0, 2, 3, 3, 4]]\n\\Presiction str:  ihello\n1895 loss: 0.5852949 prediction:  [[1 0 2 3 3 4]] true Y:  [[1, 0, 2, 3, 3, 4]]\n\\Presiction str:  ihello\n1896 loss: 0.5852928 prediction:  [[1 0 2 3 3 4]] true Y:  [[1, 0, 2, 3, 3, 4]]\n\\Presiction str:  ihello\n1897 loss: 0.58529085 prediction:  [[1 0 2 3 3 4]] true Y:  [[1, 0, 2, 3, 3, 4]]\n\\Presiction str:  ihello\n1898 loss: 0.58528894 prediction:  [[1 0 2 3 3 4]] true Y:  [[1, 0, 2, 3, 3, 4]]\n\\Presiction str:  ihello\n1899 loss: 0.5852869 prediction:  [[1 0 2 3 3 4]] true Y:  [[1, 0, 2, 3, 3, 4]]\n\\Presiction str:  ihello\n1900 loss: 0.58528495 prediction:  [[1 0 2 3 3 4]] true Y:  [[1, 0, 2, 3, 3, 4]]\n\\Presiction str:  ihello\n1901 loss: 0.5852829 prediction:  [[1 0 2 3 3 4]] true Y:  [[1, 0, 2, 3, 3, 4]]\n\\Presiction str:  ihello\n1902 loss: 0.58528095 prediction:  [[1 0 2 3 3 4]] true Y:  [[1, 0, 2, 3, 3, 4]]\n\\Presiction str:  ihello\n1903 loss: 0.58527905 prediction:  [[1 0 2 3 3 4]] true Y:  [[1, 0, 2, 3, 3, 4]]\n\\Presiction str:  ihello\n1904 loss: 0.585277 prediction:  [[1 0 2 3 3 4]] true Y:  [[1, 0, 2, 3, 3, 4]]\n\\Presiction str:  ihello\n1905 loss: 0.5852751 prediction:  [[1 0 2 3 3 4]] true Y:  [[1, 0, 2, 3, 3, 4]]\n\\Presiction str:  ihello\n1906 loss: 0.58527315 prediction:  [[1 0 2 3 3 4]] true Y:  [[1, 0, 2, 3, 3, 4]]\n\\Presiction str:  ihello\n1907 loss: 0.5852711 prediction:  [[1 0 2 3 3 4]] true Y:  [[1, 0, 2, 3, 3, 4]]\n\\Presiction str:  ihello\n1908 loss: 0.58526915 prediction:  [[1 0 2 3 3 4]] true Y:  [[1, 0, 2, 3, 3, 4]]\n\\Presiction str:  ihello\n1909 loss: 0.58526725 prediction:  [[1 0 2 3 3 4]] true Y:  [[1, 0, 2, 3, 3, 4]]\n\\Presiction str:  ihello\n1910 loss: 0.5852652 prediction:  [[1 0 2 3 3 4]] true Y:  [[1, 0, 2, 3, 3, 4]]\n\\Presiction str:  ihello\n1911 loss: 0.5852633 prediction:  [[1 0 2 3 3 4]] true Y:  [[1, 0, 2, 3, 3, 4]]\n\\Presiction str:  ihello\n1912 loss: 0.5852613 prediction:  [[1 0 2 3 3 4]] true Y:  [[1, 0, 2, 3, 3, 4]]\n\\Presiction str:  ihello\n1913 loss: 0.5852594 prediction:  [[1 0 2 3 3 4]] true Y:  [[1, 0, 2, 3, 3, 4]]\n\\Presiction str:  ihello\n1914 loss: 0.58525735 prediction:  [[1 0 2 3 3 4]] true Y:  [[1, 0, 2, 3, 3, 4]]\n\\Presiction str:  ihello\n1915 loss: 0.5852554 prediction:  [[1 0 2 3 3 4]] true Y:  [[1, 0, 2, 3, 3, 4]]\n\\Presiction str:  ihello\n1916 loss: 0.5852535 prediction:  [[1 0 2 3 3 4]] true Y:  [[1, 0, 2, 3, 3, 4]]\n\\Presiction str:  ihello\n1917 loss: 0.5852515 prediction:  [[1 0 2 3 3 4]] true Y:  [[1, 0, 2, 3, 3, 4]]\n\\Presiction str:  ihello\n1918 loss: 0.5852495 prediction:  [[1 0 2 3 3 4]] true Y:  [[1, 0, 2, 3, 3, 4]]\n\\Presiction str:  ihello\n1919 loss: 0.5852476 prediction:  [[1 0 2 3 3 4]] true Y:  [[1, 0, 2, 3, 3, 4]]\n\\Presiction str:  ihello\n1920 loss: 0.58524567 prediction:  [[1 0 2 3 3 4]] true Y:  [[1, 0, 2, 3, 3, 4]]\n\\Presiction str:  ihello\n1921 loss: 0.58524364 prediction:  [[1 0 2 3 3 4]] true Y:  [[1, 0, 2, 3, 3, 4]]\n\\Presiction str:  ihello\n1922 loss: 0.58524173 prediction:  [[1 0 2 3 3 4]] true Y:  [[1, 0, 2, 3, 3, 4]]\n\\Presiction str:  ihello\n1923 loss: 0.58523977 prediction:  [[1 0 2 3 3 4]] true Y:  [[1, 0, 2, 3, 3, 4]]\n\\Presiction str:  ihello\n1924 loss: 0.5852378 prediction:  [[1 0 2 3 3 4]] true Y:  [[1, 0, 2, 3, 3, 4]]\n\\Presiction str:  ihello\n1925 loss: 0.5852359 prediction:  [[1 0 2 3 3 4]] true Y:  [[1, 0, 2, 3, 3, 4]]\n\\Presiction str:  ihello\n1926 loss: 0.585234 prediction:  [[1 0 2 3 3 4]] true Y:  [[1, 0, 2, 3, 3, 4]]\n\\Presiction str:  ihello\n1927 loss: 0.585232 prediction:  [[1 0 2 3 3 4]] true Y:  [[1, 0, 2, 3, 3, 4]]\n\\Presiction str:  ihello\n1928 loss: 0.58523005 prediction:  [[1 0 2 3 3 4]] true Y:  [[1, 0, 2, 3, 3, 4]]\n\\Presiction str:  ihello\n1929 loss: 0.5852281 prediction:  [[1 0 2 3 3 4]] true Y:  [[1, 0, 2, 3, 3, 4]]\n\\Presiction str:  ihello\n1930 loss: 0.58522624 prediction:  [[1 0 2 3 3 4]] true Y:  [[1, 0, 2, 3, 3, 4]]\n\\Presiction str:  ihello\n1931 loss: 0.5852243 prediction:  [[1 0 2 3 3 4]] true Y:  [[1, 0, 2, 3, 3, 4]]\n\\Presiction str:  ihello\n1932 loss: 0.5852223 prediction:  [[1 0 2 3 3 4]] true Y:  [[1, 0, 2, 3, 3, 4]]\n\\Presiction str:  ihello\n1933 loss: 0.5852204 prediction:  [[1 0 2 3 3 4]] true Y:  [[1, 0, 2, 3, 3, 4]]\n\\Presiction str:  ihello\n1934 loss: 0.5852184 prediction:  [[1 0 2 3 3 4]] true Y:  [[1, 0, 2, 3, 3, 4]]\n\\Presiction str:  ihello\n1935 loss: 0.58521646 prediction:  [[1 0 2 3 3 4]] true Y:  [[1, 0, 2, 3, 3, 4]]\n\\Presiction str:  ihello\n1936 loss: 0.58521456 prediction:  [[1 0 2 3 3 4]] true Y:  [[1, 0, 2, 3, 3, 4]]\n\\Presiction str:  ihello\n1937 loss: 0.58521265 prediction:  [[1 0 2 3 3 4]] true Y:  [[1, 0, 2, 3, 3, 4]]\n\\Presiction str:  ihello\n1938 loss: 0.5852107 prediction:  [[1 0 2 3 3 4]] true Y:  [[1, 0, 2, 3, 3, 4]]\n\\Presiction str:  ihello\n1939 loss: 0.5852088 prediction:  [[1 0 2 3 3 4]] true Y:  [[1, 0, 2, 3, 3, 4]]\n\\Presiction str:  ihello\n1940 loss: 0.5852068 prediction:  [[1 0 2 3 3 4]] true Y:  [[1, 0, 2, 3, 3, 4]]\n\\Presiction str:  ihello\n1941 loss: 0.58520484 prediction:  [[1 0 2 3 3 4]] true Y:  [[1, 0, 2, 3, 3, 4]]\n\\Presiction str:  ihello\n1942 loss: 0.585203 prediction:  [[1 0 2 3 3 4]] true Y:  [[1, 0, 2, 3, 3, 4]]\n\\Presiction str:  ihello\n1943 loss: 0.5852011 prediction:  [[1 0 2 3 3 4]] true Y:  [[1, 0, 2, 3, 3, 4]]\n\\Presiction str:  ihello\n1944 loss: 0.58519906 prediction:  [[1 0 2 3 3 4]] true Y:  [[1, 0, 2, 3, 3, 4]]\n\\Presiction str:  ihello\n1945 loss: 0.5851972 prediction:  [[1 0 2 3 3 4]] true Y:  [[1, 0, 2, 3, 3, 4]]\n\\Presiction str:  ihello\n1946 loss: 0.5851953 prediction:  [[1 0 2 3 3 4]] true Y:  [[1, 0, 2, 3, 3, 4]]\n\\Presiction str:  ihello\n1947 loss: 0.5851934 prediction:  [[1 0 2 3 3 4]] true Y:  [[1, 0, 2, 3, 3, 4]]\n\\Presiction str:  ihello\n1948 loss: 0.5851914 prediction:  [[1 0 2 3 3 4]] true Y:  [[1, 0, 2, 3, 3, 4]]\n\\Presiction str:  ihello\n1949 loss: 0.5851895 prediction:  [[1 0 2 3 3 4]] true Y:  [[1, 0, 2, 3, 3, 4]]\n\\Presiction str:  ihello\n1950 loss: 0.5851876 prediction:  [[1 0 2 3 3 4]] true Y:  [[1, 0, 2, 3, 3, 4]]\n\\Presiction str:  ihello\n1951 loss: 0.5851857 prediction:  [[1 0 2 3 3 4]] true Y:  [[1, 0, 2, 3, 3, 4]]\n\\Presiction str:  ihello\n1952 loss: 0.5851838 prediction:  [[1 0 2 3 3 4]] true Y:  [[1, 0, 2, 3, 3, 4]]\n\\Presiction str:  ihello\n1953 loss: 0.5851819 prediction:  [[1 0 2 3 3 4]] true Y:  [[1, 0, 2, 3, 3, 4]]\n\\Presiction str:  ihello\n1954 loss: 0.58518 prediction:  [[1 0 2 3 3 4]] true Y:  [[1, 0, 2, 3, 3, 4]]\n\\Presiction str:  ihello\n1955 loss: 0.5851781 prediction:  [[1 0 2 3 3 4]] true Y:  [[1, 0, 2, 3, 3, 4]]\n\\Presiction str:  ihello\n1956 loss: 0.58517617 prediction:  [[1 0 2 3 3 4]] true Y:  [[1, 0, 2, 3, 3, 4]]\n\\Presiction str:  ihello\n1957 loss: 0.58517426 prediction:  [[1 0 2 3 3 4]] true Y:  [[1, 0, 2, 3, 3, 4]]\n\\Presiction str:  ihello\n1958 loss: 0.58517236 prediction:  [[1 0 2 3 3 4]] true Y:  [[1, 0, 2, 3, 3, 4]]\n\\Presiction str:  ihello\n1959 loss: 0.5851705 prediction:  [[1 0 2 3 3 4]] true Y:  [[1, 0, 2, 3, 3, 4]]\n\\Presiction str:  ihello\n1960 loss: 0.5851685 prediction:  [[1 0 2 3 3 4]] true Y:  [[1, 0, 2, 3, 3, 4]]\n\\Presiction str:  ihello\n1961 loss: 0.58516663 prediction:  [[1 0 2 3 3 4]] true Y:  [[1, 0, 2, 3, 3, 4]]\n\\Presiction str:  ihello\n1962 loss: 0.5851647 prediction:  [[1 0 2 3 3 4]] true Y:  [[1, 0, 2, 3, 3, 4]]\n\\Presiction str:  ihello\n1963 loss: 0.5851628 prediction:  [[1 0 2 3 3 4]] true Y:  [[1, 0, 2, 3, 3, 4]]\n\\Presiction str:  ihello\n1964 loss: 0.5851609 prediction:  [[1 0 2 3 3 4]] true Y:  [[1, 0, 2, 3, 3, 4]]\n\\Presiction str:  ihello\n1965 loss: 0.585159 prediction:  [[1 0 2 3 3 4]] true Y:  [[1, 0, 2, 3, 3, 4]]\n\\Presiction str:  ihello\n1966 loss: 0.5851571 prediction:  [[1 0 2 3 3 4]] true Y:  [[1, 0, 2, 3, 3, 4]]\n\\Presiction str:  ihello\n1967 loss: 0.5851552 prediction:  [[1 0 2 3 3 4]] true Y:  [[1, 0, 2, 3, 3, 4]]\n\\Presiction str:  ihello\n1968 loss: 0.5851533 prediction:  [[1 0 2 3 3 4]] true Y:  [[1, 0, 2, 3, 3, 4]]\n\\Presiction str:  ihello\n1969 loss: 0.58515143 prediction:  [[1 0 2 3 3 4]] true Y:  [[1, 0, 2, 3, 3, 4]]\n\\Presiction str:  ihello\n1970 loss: 0.5851495 prediction:  [[1 0 2 3 3 4]] true Y:  [[1, 0, 2, 3, 3, 4]]\n\\Presiction str:  ihello\n1971 loss: 0.5851476 prediction:  [[1 0 2 3 3 4]] true Y:  [[1, 0, 2, 3, 3, 4]]\n\\Presiction str:  ihello\n1972 loss: 0.5851458 prediction:  [[1 0 2 3 3 4]] true Y:  [[1, 0, 2, 3, 3, 4]]\n\\Presiction str:  ihello\n1973 loss: 0.5851438 prediction:  [[1 0 2 3 3 4]] true Y:  [[1, 0, 2, 3, 3, 4]]\n\\Presiction str:  ihello\n1974 loss: 0.58514196 prediction:  [[1 0 2 3 3 4]] true Y:  [[1, 0, 2, 3, 3, 4]]\n\\Presiction str:  ihello\n1975 loss: 0.58514017 prediction:  [[1 0 2 3 3 4]] true Y:  [[1, 0, 2, 3, 3, 4]]\n\\Presiction str:  ihello\n1976 loss: 0.58513826 prediction:  [[1 0 2 3 3 4]] true Y:  [[1, 0, 2, 3, 3, 4]]\n\\Presiction str:  ihello\n1977 loss: 0.58513635 prediction:  [[1 0 2 3 3 4]] true Y:  [[1, 0, 2, 3, 3, 4]]\n\\Presiction str:  ihello\n1978 loss: 0.58513445 prediction:  [[1 0 2 3 3 4]] true Y:  [[1, 0, 2, 3, 3, 4]]\n\\Presiction str:  ihello\n1979 loss: 0.58513254 prediction:  [[1 0 2 3 3 4]] true Y:  [[1, 0, 2, 3, 3, 4]]\n\\Presiction str:  ihello\n1980 loss: 0.58513075 prediction:  [[1 0 2 3 3 4]] true Y:  [[1, 0, 2, 3, 3, 4]]\n\\Presiction str:  ihello\n1981 loss: 0.58512884 prediction:  [[1 0 2 3 3 4]] true Y:  [[1, 0, 2, 3, 3, 4]]\n\\Presiction str:  ihello\n1982 loss: 0.585127 prediction:  [[1 0 2 3 3 4]] true Y:  [[1, 0, 2, 3, 3, 4]]\n\\Presiction str:  ihello\n1983 loss: 0.58512515 prediction:  [[1 0 2 3 3 4]] true Y:  [[1, 0, 2, 3, 3, 4]]\n\\Presiction str:  ihello\n1984 loss: 0.58512324 prediction:  [[1 0 2 3 3 4]] true Y:  [[1, 0, 2, 3, 3, 4]]\n\\Presiction str:  ihello\n1985 loss: 0.58512133 prediction:  [[1 0 2 3 3 4]] true Y:  [[1, 0, 2, 3, 3, 4]]\n\\Presiction str:  ihello\n1986 loss: 0.5851194 prediction:  [[1 0 2 3 3 4]] true Y:  [[1, 0, 2, 3, 3, 4]]\n\\Presiction str:  ihello\n1987 loss: 0.5851175 prediction:  [[1 0 2 3 3 4]] true Y:  [[1, 0, 2, 3, 3, 4]]\n\\Presiction str:  ihello\n1988 loss: 0.58511573 prediction:  [[1 0 2 3 3 4]] true Y:  [[1, 0, 2, 3, 3, 4]]\n\\Presiction str:  ihello\n1989 loss: 0.58511376 prediction:  [[1 0 2 3 3 4]] true Y:  [[1, 0, 2, 3, 3, 4]]\n\\Presiction str:  ihello\n1990 loss: 0.58511204 prediction:  [[1 0 2 3 3 4]] true Y:  [[1, 0, 2, 3, 3, 4]]\n\\Presiction str:  ihello\n1991 loss: 0.5851101 prediction:  [[1 0 2 3 3 4]] true Y:  [[1, 0, 2, 3, 3, 4]]\n\\Presiction str:  ihello\n1992 loss: 0.5851083 prediction:  [[1 0 2 3 3 4]] true Y:  [[1, 0, 2, 3, 3, 4]]\n\\Presiction str:  ihello\n1993 loss: 0.5851063 prediction:  [[1 0 2 3 3 4]] true Y:  [[1, 0, 2, 3, 3, 4]]\n\\Presiction str:  ihello\n1994 loss: 0.5851044 prediction:  [[1 0 2 3 3 4]] true Y:  [[1, 0, 2, 3, 3, 4]]\n\\Presiction str:  ihello\n1995 loss: 0.58510256 prediction:  [[1 0 2 3 3 4]] true Y:  [[1, 0, 2, 3, 3, 4]]\n\\Presiction str:  ihello\n1996 loss: 0.5851007 prediction:  [[1 0 2 3 3 4]] true Y:  [[1, 0, 2, 3, 3, 4]]\n\\Presiction str:  ihello\n1997 loss: 0.58509886 prediction:  [[1 0 2 3 3 4]] true Y:  [[1, 0, 2, 3, 3, 4]]\n\\Presiction str:  ihello\n1998 loss: 0.5850971 prediction:  [[1 0 2 3 3 4]] true Y:  [[1, 0, 2, 3, 3, 4]]\n\\Presiction str:  ihello\n1999 loss: 0.5850952 prediction:  [[1 0 2 3 3 4]] true Y:  [[1, 0, 2, 3, 3, 4]]\n\\Presiction str:  ihello\n"
    }
   ],
   "source": [
    "prediction = tf.argmax(outputs, axis=2)\n",
    "\n",
    "with tf.Session() as sess:\n",
    "    sess.run(tf.global_variables_initializer())\n",
    "    for i in range(2000):\n",
    "        l, _ = sess.run([loss, train], feed_dict={X: x_one_hot, Y: y_data})\n",
    "        result = sess.run(prediction, feed_dict={X: x_one_hot})\n",
    "        print(i, \"loss:\", l, \"prediction: \", result, \"true Y: \", y_data)\n",
    "\n",
    "        result_str = [idx2char[c] for c in np.squeeze(result)]\n",
    "        print(\"\\Presiction str: \", ''.join(result_str))"
   ]
  },
  {
   "cell_type": "code",
   "execution_count": null,
   "metadata": {},
   "outputs": [],
   "source": [
    "## data 생성\n",
    "\n",
    "sample = ' if you want you'\n",
    "idx2char = list(set(sample))\n",
    "char2idx = {c: i for i, c in enumerate(idx2char)}\n",
    "\n",
    "sample_idx = [char2idx[c] for c in sample]"
   ]
  }
 ],
 "metadata": {
  "language_info": {
   "codemirror_mode": {
    "name": "ipython",
    "version": 3
   },
   "file_extension": ".py",
   "mimetype": "text/x-python",
   "name": "python",
   "nbconvert_exporter": "python",
   "pygments_lexer": "ipython3",
   "version": "3.7.6-final"
  },
  "orig_nbformat": 2,
  "kernelspec": {
   "name": "python3",
   "display_name": "Python 3"
  }
 },
 "nbformat": 4,
 "nbformat_minor": 2
}