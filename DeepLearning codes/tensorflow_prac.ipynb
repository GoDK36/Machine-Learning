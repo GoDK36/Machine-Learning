{
 "nbformat": 4,
 "nbformat_minor": 2,
 "metadata": {
  "language_info": {
   "name": "python",
   "codemirror_mode": {
    "name": "ipython",
    "version": 3
   },
   "version": "3.7.6-final"
  },
  "orig_nbformat": 2,
  "file_extension": ".py",
  "mimetype": "text/x-python",
  "name": "python",
  "npconvert_exporter": "python",
  "pygments_lexer": "ipython3",
  "version": 3,
  "kernelspec": {
   "name": "python37664bitbaseconda7ccc1197ea424c04aa8e970980241a68",
   "display_name": "Python 3.7.6 64-bit ('base': conda)"
  }
 },
 "cells": [
  {
   "cell_type": "code",
   "execution_count": 1,
   "metadata": {},
   "outputs": [],
   "source": [
    "##텐서플로는 Data Flow Graph 를 사용하는 것\n",
    "## data == tense 데이타가 돌아다난다 해서 tensorflow"
   ]
  },
  {
   "cell_type": "code",
   "execution_count": 2,
   "metadata": {},
   "outputs": [
    {
     "output_type": "stream",
     "name": "stdout",
     "text": "b'Hello, Tensorflow!'\n"
    }
   ],
   "source": [
    "import tensorflow as tf\n",
    "\n",
    "#노드 생성\n",
    "hello = tf.constant(\"Hello, Tensorflow!\")\n",
    "\n",
    "#실행을 위한 session 생성\n",
    "sess = tf.Session()\n",
    "\n",
    "##실행\n",
    "print(sess.run(hello))"
   ]
  },
  {
   "cell_type": "code",
   "execution_count": 3,
   "metadata": {},
   "outputs": [],
   "source": [
    "#그래프를 빌드하는 과정\n",
    "\n",
    "node1 = tf.constant(3.0, tf.float32) ##자료형이 float32\n",
    "node2 = tf.constant(4.0) ##입력 안할시 위와 자료형 동일\n",
    "node3 = tf.add(node1, node2)"
   ]
  },
  {
   "cell_type": "code",
   "execution_count": 5,
   "metadata": {},
   "outputs": [
    {
     "output_type": "stream",
     "name": "stdout",
     "text": "Tensor(\"Const_1:0\", shape=(), dtype=float32) \n Tensor(\"Const_2:0\", shape=(), dtype=float32) \n Tensor(\"Add:0\", shape=(), dtype=float32)\n"
    }
   ],
   "source": [
    "print(node1, '\\n', node2, '\\n', node3)"
   ]
  },
  {
   "cell_type": "code",
   "execution_count": 6,
   "metadata": {},
   "outputs": [
    {
     "output_type": "stream",
     "name": "stdout",
     "text": "[3.0, 4.0, 7.0]\n"
    }
   ],
   "source": [
    "sess = tf.Session()\n",
    "print(sess.run([node1, node2, node3]))"
   ]
  },
  {
   "cell_type": "code",
   "execution_count": 7,
   "metadata": {},
   "outputs": [
    {
     "output_type": "stream",
     "name": "stdout",
     "text": "7.5\n[3. 7.]\n"
    }
   ],
   "source": [
    "a = tf.placeholder(tf.float32)  ##placeholder라는 노드는 빈값으로 입력을 받을 수 있는 상태로 노드를 만든 것이다.\n",
    "b = tf.placeholder(tf.float32)\n",
    "adder_node = a + b\n",
    "\n",
    "print(sess.run(adder_node, feed_dict={a:3, b: 4.5}))  ##feed_dict라는 파라미터로 placeholder에 값을 부여함.\n",
    "print(sess.run(adder_node, feed_dict={a: [1,3], b: [2, 4]}))"
   ]
  },
  {
   "cell_type": "code",
   "execution_count": 8,
   "metadata": {},
   "outputs": [],
   "source": [
    "###Tensor###"
   ]
  },
  {
   "cell_type": "code",
   "execution_count": 9,
   "metadata": {},
   "outputs": [],
   "source": [
    "##Rank##\n",
    "#Scaler는 0차원\n",
    "s = 486\n",
    "#Vector는 1차원\n",
    "v = [1, 2.2, 34]\n",
    "#Matrix는 2차원\n",
    "m = [[1, 2, 3], [4, 5, 6]]\n",
    "#n-tensor는 n차원\n",
    "t = [[[2], [4], [6]], [[8], [10], [12]], [[14], [16], [18]]]"
   ]
  },
  {
   "cell_type": "code",
   "execution_count": 12,
   "metadata": {},
   "outputs": [],
   "source": [
    "##Shape##\n",
    "#sclaer: []\n",
    "#1차원: [D0]\n",
    "#2차원: [D0, D1]\n",
    "#n차원: [D0, D1, ..., Dn-1]"
   ]
  },
  {
   "cell_type": "code",
   "execution_count": null,
   "metadata": {},
   "outputs": [],
   "source": []
  }
 ]
}