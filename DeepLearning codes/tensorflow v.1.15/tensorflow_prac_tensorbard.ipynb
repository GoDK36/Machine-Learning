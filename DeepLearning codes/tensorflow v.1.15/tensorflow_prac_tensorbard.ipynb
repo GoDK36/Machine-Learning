{
 "cells": [
  {
   "cell_type": "markdown",
   "metadata": {},
   "source": [
    "# Tensor Board\n",
    "\n",
    "### 보기힘든 loss등의 결과 값들을 그래프를 통해 보는 것!"
   ]
  },
  {
   "cell_type": "markdown",
   "metadata": {},
   "source": [
    "## 1단계\n",
    "----------------------\n",
    "### 어떤 함수를 log할지 정하기\n",
    "#### w2_hist = tf.summary.histogram('weight2', w2)\n",
    "#### cost_summ = tf.summary.scalar('cost', cost)"
   ]
  },
  {
   "cell_type": "markdown",
   "metadata": {},
   "source": [
    "## 2단계\n",
    "----------------------\n",
    "### 하나하나 쓰지 않고 한 번에 쓰기 위해 merge하기\n",
    "#### summary = tf.summary.merge_all()"
   ]
  },
  {
   "cell_type": "markdown",
   "metadata": {},
   "source": [
    "## 3단계\n",
    "----------------------\n",
    "### 세션을 열고 summary를 어디위치에 기록할지 저장\n",
    "#### writer = tf.summary.FileWriter('./logs')   => 파일 위치\n",
    "#### writer.add_graph(sess.graph)"
   ]
  },
  {
   "cell_type": "markdown",
   "metadata": {},
   "source": [
    "## 4단계\n",
    "----------------------\n",
    "### summary 텐서를 실행시키기\n",
    "#### s, _ = sess.run([summary, optimizer], feed_dict=feed_dict)\n",
    "#### writer.add_summary(s, global_step=global_step)             => 실제 기록하는 부분"
   ]
  },
  {
   "cell_type": "markdown",
   "metadata": {},
   "source": [
    "## 5단계\n",
    "----------------------\n",
    "### 명령어로 실행하기\n",
    "#### !tensorboard --logdir=./logs\n",
    "\n",
    "------------------------\n",
    "## 원격으로 launch하기\n",
    "#### !ssh -L local_port:127.0.0.1:remote_port username@server.com\n",
    "#### 예시 => !ssh -L 7007:127.0.0.1:6006    godkim@server.com\n",
    "####         ! tensorboard --logdir=./logs/xor_logs"
   ]
  },
  {
   "cell_type": "markdown",
   "metadata": {},
   "source": [
    "## Histogram\n",
    "--------------------\n",
    "### 하나의 값이 아닌 여러개의 값의 분포를 파악 가능"
   ]
  },
  {
   "cell_type": "markdown",
   "metadata": {},
   "source": [
    "## Graph\n",
    "---------------------\n",
    "### tf.name_scope를 통해 압축시켜서 그래프를 깔끔하게 볼 수 있다"
   ]
  },
  {
   "cell_type": "markdown",
   "metadata": {},
   "source": [
    "## Multiple Runs\n",
    "---------------------\n",
    "### 하이퍼파라미터만 다르게 해서 실행시키는 걸 비교할때\n",
    "#### tensorboard --logdir=./logs/xor_logs\n",
    "#### tensorboard --logdir=./logs/xor_logs_r0_01         => learning_rate만 0.01로 바꾼 것\n",
    "#### tensorboard --logdir=./logs"
   ]
  },
  {
   "cell_type": "code",
   "execution_count": null,
   "metadata": {},
   "outputs": [],
   "source": []
  }
 ],
 "metadata": {
  "language_info": {
   "codemirror_mode": {
    "name": "ipython",
    "version": 3
   },
   "file_extension": ".py",
   "mimetype": "text/x-python",
   "name": "python",
   "nbconvert_exporter": "python",
   "pygments_lexer": "ipython3",
   "version": "3.7.7-final"
  },
  "orig_nbformat": 2,
  "kernelspec": {
   "name": "python37664bitbaseconda7ccc1197ea424c04aa8e970980241a68",
   "display_name": "Python 3.7.6 64-bit ('base': conda)"
  }
 },
 "nbformat": 4,
 "nbformat_minor": 2
}