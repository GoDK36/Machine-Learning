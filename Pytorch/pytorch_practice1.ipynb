{
 "cells": [
  {
   "cell_type": "markdown",
   "metadata": {},
   "source": [
    "# Pytorch tutorial 1"
   ]
  },
  {
   "cell_type": "code",
   "execution_count": 1,
   "metadata": {},
   "outputs": [],
   "source": [
    "from __future__ import print_function\n",
    "import torch"
   ]
  },
  {
   "cell_type": "markdown",
   "metadata": {},
   "source": [
    "## Tensor"
   ]
  },
  {
   "cell_type": "code",
   "execution_count": 2,
   "metadata": {},
   "outputs": [
    {
     "output_type": "stream",
     "name": "stdout",
     "text": "tensor([[1.0194e-38, 8.4490e-39, 1.1112e-38],\n        [9.5511e-39, 1.0102e-38, 7.0715e-39],\n        [9.0919e-39, 9.6429e-39, 9.2755e-39],\n        [6.9796e-39, 8.9082e-39, 1.0102e-38],\n        [1.0102e-38, 8.4490e-39, 1.1112e-38]])\n"
    }
   ],
   "source": [
    "# Tensor: numpy의 ndarray와 비슷하다\n",
    "x = torch.empty(5, 3)\n",
    "print(x)"
   ]
  },
  {
   "cell_type": "code",
   "execution_count": 3,
   "metadata": {},
   "outputs": [
    {
     "output_type": "stream",
     "name": "stdout",
     "text": "tensor([[0.8890, 0.2557, 0.4287],\n        [0.1030, 0.0284, 0.6248],\n        [0.6609, 0.4294, 0.5663],\n        [0.7309, 0.9874, 0.7643],\n        [0.8545, 0.0252, 0.8389]])\n"
    }
   ],
   "source": [
    "# 초기화된 값(random)\n",
    "x = torch.rand(5, 3)\n",
    "print(x)"
   ]
  },
  {
   "cell_type": "code",
   "execution_count": 5,
   "metadata": {},
   "outputs": [
    {
     "output_type": "stream",
     "name": "stdout",
     "text": "tensor([[0, 0, 0],\n        [0, 0, 0],\n        [0, 0, 0],\n        [0, 0, 0],\n        [0, 0, 0]])\ntorch.int64\n"
    }
   ],
   "source": [
    "# 0으로 초기화\n",
    "x = torch.zeros(5, 3, dtype=torch.long)\n",
    "print(x)\n",
    "print(x.dtype)"
   ]
  },
  {
   "cell_type": "code",
   "execution_count": 6,
   "metadata": {},
   "outputs": [
    {
     "output_type": "stream",
     "name": "stdout",
     "text": "tensor([5.5000, 3.0000])\n"
    }
   ],
   "source": [
    "# 직접 값 입력하기\n",
    "x = torch.tensor([5.5, 3])\n",
    "print(x)"
   ]
  },
  {
   "cell_type": "code",
   "execution_count": 7,
   "metadata": {},
   "outputs": [
    {
     "output_type": "stream",
     "name": "stdout",
     "text": "tensor([[1., 1., 1.],\n        [1., 1., 1.],\n        [1., 1., 1.],\n        [1., 1., 1.],\n        [1., 1., 1.]], dtype=torch.float64)\ntensor([[0.3795, 0.8410, 0.5389],\n        [0.4778, 0.6819, 0.5157],\n        [0.6277, 0.0976, 0.4907],\n        [0.6031, 0.3247, 0.1956],\n        [0.0521, 0.5252, 0.1928]])\n"
    }
   ],
   "source": [
    "x = x.new_ones(5, 3, dtype=torch.double)            # new_* 은 크기 입력을 받는다\n",
    "print(x)\n",
    "\n",
    "x = torch.rand_like(x, dtype=torch.float)           # type overwrite도 가능. 기존의 1이 입력된 x의 값에 임의의 값으로 덮어쓴다.\n",
    "print(x)"
   ]
  },
  {
   "cell_type": "code",
   "execution_count": 9,
   "metadata": {},
   "outputs": [
    {
     "output_type": "stream",
     "name": "stdout",
     "text": "torch.Size([5, 3])\n"
    }
   ],
   "source": [
    "# size 역시 같다. torch.size의 경우 tuple 자료형처럼 적용된다.\n",
    "print(x.size())"
   ]
  },
  {
   "cell_type": "markdown",
   "metadata": {},
   "source": [
    "## Operation, 연산"
   ]
  },
  {
   "cell_type": "code",
   "execution_count": 10,
   "metadata": {},
   "outputs": [
    {
     "output_type": "stream",
     "name": "stdout",
     "text": "torch.Size([5, 3]) torch.Size([5, 3])\ntensor([[0.7821, 1.2967, 1.3793],\n        [0.5026, 1.2016, 1.2457],\n        [1.6222, 0.5588, 1.3642],\n        [1.2820, 1.1817, 0.2399],\n        [0.2371, 1.1526, 0.7259]])\ntensor([[0.7821, 1.2967, 1.3793],\n        [0.5026, 1.2016, 1.2457],\n        [1.6222, 0.5588, 1.3642],\n        [1.2820, 1.1817, 0.2399],\n        [0.2371, 1.1526, 0.7259]])\n"
    }
   ],
   "source": [
    "y = torch.rand(5, 3)\n",
    "print(x.size(), y.size()) # 사이즈가 같아야 연산 가능\n",
    "\n",
    "# 더하기의 두 가지 방법\n",
    "# 1.\n",
    "print(x + y)\n",
    "\n",
    "# 2.\n",
    "print(torch.add(x, y))"
   ]
  },
  {
   "cell_type": "code",
   "execution_count": 11,
   "metadata": {},
   "outputs": [
    {
     "output_type": "stream",
     "name": "stdout",
     "text": "tensor([[0.7821, 1.2967, 1.3793],\n        [0.5026, 1.2016, 1.2457],\n        [1.6222, 0.5588, 1.3642],\n        [1.2820, 1.1817, 0.2399],\n        [0.2371, 1.1526, 0.7259]])\n"
    }
   ],
   "source": [
    "# 더한 값을 특정 변수애 넣기\n",
    "res = torch.empty(5, 3)         # 넣을 변수의 사이즈도 맞추어 주어야 한다\n",
    "torch.add(x, y, out=res)\n",
    "print(res)"
   ]
  },
  {
   "cell_type": "code",
   "execution_count": 15,
   "metadata": {},
   "outputs": [
    {
     "output_type": "stream",
     "name": "stdout",
     "text": "tensor([[1.5410, 2.9786, 2.4571],\n        [1.4582, 2.5655, 2.2771],\n        [2.8775, 0.7540, 2.3457],\n        [2.4882, 1.8312, 0.6310],\n        [0.3412, 2.2030, 1.1116]])\n"
    }
   ],
   "source": [
    "# 변수 y에 x+y를 넣는다. y = x+y\n",
    "y.add_(x)\n",
    "print(y)"
   ]
  },
  {
   "cell_type": "code",
   "execution_count": 16,
   "metadata": {},
   "outputs": [],
   "source": [
    "# tensor 변수의 값을 바꾸게되는 연산자들은 뒤에 '_'가 붙는다.\n",
    "# for example: x.copy_(y), x.t_(y) => x를 바꿀 것이다"
   ]
  },
  {
   "cell_type": "code",
   "execution_count": 19,
   "metadata": {},
   "outputs": [
    {
     "output_type": "stream",
     "name": "stdout",
     "text": "tensor([0.8410, 0.6819, 0.0976, 0.3247, 0.5252])\n"
    }
   ],
   "source": [
    "# numpy 처럼 slicing 가능\n",
    "print(x[:, 1])                  # dataframe의 슬라이싱과 동일"
   ]
  },
  {
   "cell_type": "code",
   "execution_count": 20,
   "metadata": {},
   "outputs": [
    {
     "output_type": "stream",
     "name": "stdout",
     "text": "torch.Size([4, 4]) torch.Size([16]) torch.Size([2, 8])\n"
    }
   ],
   "source": [
    "# tensor의 사이즈 변경\n",
    "x = torch.randn(4, 4)           # 4*4 = 2*8 = 16 * 1\n",
    "y = x.view(16)                  # 16 * 1\n",
    "z = x.view(-1, 8)               # 여기서 -1은 남은 값들로부터 추측한다. 여기서는 2 * 8이 남았으므로 2\n",
    "print(x.size(), y.size(), z.size())"
   ]
  },
  {
   "cell_type": "code",
   "execution_count": 21,
   "metadata": {},
   "outputs": [
    {
     "output_type": "stream",
     "name": "stdout",
     "text": "tensor([0.9122])\n0.9121751189231873\n"
    }
   ],
   "source": [
    "# tensor의 값이 하나뿐이라면 array 형태가 아닌 하나의 값으로도 받을 수 있다.\n",
    "ㅌ = torch.randn(1)\n",
    "print(ㅌ)\n",
    "print(ㅌ.item())"
   ]
  },
  {
   "cell_type": "markdown",
   "metadata": {},
   "source": [
    "## Numpy Bridge"
   ]
  },
  {
   "cell_type": "code",
   "execution_count": 22,
   "metadata": {},
   "outputs": [],
   "source": [
    "# torch의 tensor와 numpy의 array는 같은 메모리를 공유한다. 따라서 변환이 매우 쉽다."
   ]
  },
  {
   "cell_type": "code",
   "execution_count": 23,
   "metadata": {},
   "outputs": [
    {
     "output_type": "stream",
     "name": "stdout",
     "text": "tensor([1., 1., 1., 1., 1.])\n[1. 1. 1. 1. 1.]\n"
    }
   ],
   "source": [
    "# torch -> numpy\n",
    "a = torch.ones(5)\n",
    "print(a)\n",
    "b = a.numpy()\n",
    "print(b)"
   ]
  },
  {
   "cell_type": "code",
   "execution_count": 25,
   "metadata": {},
   "outputs": [
    {
     "output_type": "stream",
     "name": "stdout",
     "text": "tensor([3., 3., 3., 3., 3.]) [3. 3. 3. 3. 3.]\n"
    }
   ],
   "source": [
    "a.add_(1)\n",
    "print(a, b)                 # a에만 더했는데, 같은 메모리를 공유하기에 b도 변함"
   ]
  },
  {
   "cell_type": "code",
   "execution_count": 27,
   "metadata": {},
   "outputs": [
    {
     "output_type": "stream",
     "name": "stdout",
     "text": "[2. 2. 2. 2. 2.]\ntensor([2., 2., 2., 2., 2.], dtype=torch.float64)\n"
    }
   ],
   "source": [
    "# numpy => torch\n",
    "import numpy as np\n",
    "\n",
    "a = np.ones(5)\n",
    "b = torch.from_numpy(a)\n",
    "np.add(a, 1, out=a)\n",
    "print(a)\n",
    "print(b)"
   ]
  },
  {
   "cell_type": "code",
   "execution_count": 28,
   "metadata": {},
   "outputs": [
    {
     "output_type": "stream",
     "name": "stdout",
     "text": "available!_!\ntensor([[-0.1405,  0.5138,  2.3461,  2.1653],\n        [ 1.8154,  1.5245,  1.0235,  1.0533],\n        [ 0.7650,  2.0506,  1.9110,  2.0496],\n        [ 0.0289,  2.6485,  0.8314,  0.1394]], device='cuda:0')\ntensor([[-0.1405,  0.5138,  2.3461,  2.1653],\n        [ 1.8154,  1.5245,  1.0235,  1.0533],\n        [ 0.7650,  2.0506,  1.9110,  2.0496],\n        [ 0.0289,  2.6485,  0.8314,  0.1394]], dtype=torch.float64)\n"
    }
   ],
   "source": [
    "# CUDA가 가능한 경우\n",
    "# 'torch.device' 객체를 사용해 GPU로 tensor를 이동시킬 수 있다.\n",
    "\n",
    "if torch.cuda.is_available():\n",
    "    print('available!_!')\n",
    "    device = torch.device(\"cuda\")           # cuda 객체 받기\n",
    "    y = torch.ones_like(x, device=device)   # GPU에서 tensor 생성\n",
    "    x = x.to(device)                        # tensor를 GPU로 보내서 생성\n",
    "    z = x + y\n",
    "    print(z)\n",
    "    print(z.to(\"cpu\", torch.double))        # .to 모듈은 dtype도 바꿀 수 있다\n",
    "\n",
    "else:\n",
    "    not print('not available')"
   ]
  },
  {
   "cell_type": "code",
   "execution_count": null,
   "metadata": {},
   "outputs": [],
   "source": []
  }
 ],
 "metadata": {
  "language_info": {
   "codemirror_mode": {
    "name": "ipython",
    "version": 3
   },
   "file_extension": ".py",
   "mimetype": "text/x-python",
   "name": "python",
   "nbconvert_exporter": "python",
   "pygments_lexer": "ipython3",
   "version": "3.7.6-final"
  },
  "orig_nbformat": 2,
  "kernelspec": {
   "name": "python3",
   "display_name": "Python 3"
  }
 },
 "nbformat": 4,
 "nbformat_minor": 2
}